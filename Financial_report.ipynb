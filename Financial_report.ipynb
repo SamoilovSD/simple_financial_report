{
 "cells": [
  {
   "cell_type": "markdown",
   "metadata": {},
   "source": [
    "# Отчет для фирмы за 2 года "
   ]
  },
  {
   "cell_type": "markdown",
   "metadata": {},
   "source": [
    "## Задания\n",
    "1) Подготовить данные, описать их\n",
    "\n",
    "2) Посчитать суммарную выручку за все время, за года, кварталы, месяцы, недели, построить графики\n",
    "\n",
    "3) Найти наиболее/наименее прибыльного заказчика, город, регион, категорию\n",
    "\n",
    "4) Какие товары покупают чаще всего, какие товары покупают чаще всего в регионе, городе"
   ]
  },
  {
   "cell_type": "code",
   "execution_count": 1,
   "metadata": {},
   "outputs": [],
   "source": [
    "import numpy as np\n",
    "import math\n",
    "import matplotlib.pyplot as plt\n",
    "import matplotlib\n",
    "import seaborn as sns\n",
    "import pandas as pd\n",
    "\n",
    "rc = {\"font.family\" : \"serif\", \n",
    "      \"mathtext.fontset\" : \"stix\"}\n",
    "plt.rcParams.update(rc)\n",
    "plt.rcParams[\"font.serif\"] = [\"Times New Roman\"] + plt.rcParams[\"font.serif\"]\n",
    "matplotlib.rcParams.update({'font.size': 18})"
   ]
  },
  {
   "cell_type": "markdown",
   "metadata": {},
   "source": [
    "## Задание 1\n",
    "\n",
    "Подготовить данные, описать их"
   ]
  },
  {
   "cell_type": "code",
   "execution_count": 2,
   "metadata": {},
   "outputs": [],
   "source": [
    "df = pd.read_excel('data.xlsx', skiprows=1)"
   ]
  },
  {
   "cell_type": "code",
   "execution_count": 3,
   "metadata": {},
   "outputs": [
    {
     "data": {
      "text/html": [
       "<div>\n",
       "<style scoped>\n",
       "    .dataframe tbody tr th:only-of-type {\n",
       "        vertical-align: middle;\n",
       "    }\n",
       "\n",
       "    .dataframe tbody tr th {\n",
       "        vertical-align: top;\n",
       "    }\n",
       "\n",
       "    .dataframe thead th {\n",
       "        text-align: right;\n",
       "    }\n",
       "</style>\n",
       "<table border=\"1\" class=\"dataframe\">\n",
       "  <thead>\n",
       "    <tr style=\"text-align: right;\">\n",
       "      <th></th>\n",
       "      <th>Unnamed: 0</th>\n",
       "      <th>Дата</th>\n",
       "      <th>Заказчик</th>\n",
       "      <th>Город</th>\n",
       "      <th>Регион</th>\n",
       "      <th>Категория</th>\n",
       "      <th>Товар</th>\n",
       "      <th>Цена за штуку</th>\n",
       "      <th>Количество</th>\n",
       "    </tr>\n",
       "  </thead>\n",
       "  <tbody>\n",
       "    <tr>\n",
       "      <th>0</th>\n",
       "      <td>NaN</td>\n",
       "      <td>2021-01-01</td>\n",
       "      <td>Sweetables</td>\n",
       "      <td>Гамбург</td>\n",
       "      <td>Север</td>\n",
       "      <td>Крупы</td>\n",
       "      <td>Гречка</td>\n",
       "      <td>1.40</td>\n",
       "      <td>216</td>\n",
       "    </tr>\n",
       "    <tr>\n",
       "      <th>1</th>\n",
       "      <td>NaN</td>\n",
       "      <td>2021-01-01</td>\n",
       "      <td>Sweetables</td>\n",
       "      <td>Гамбург</td>\n",
       "      <td>Север</td>\n",
       "      <td>Сухофрукты</td>\n",
       "      <td>Изюм</td>\n",
       "      <td>0.99</td>\n",
       "      <td>127</td>\n",
       "    </tr>\n",
       "    <tr>\n",
       "      <th>2</th>\n",
       "      <td>NaN</td>\n",
       "      <td>2021-01-01</td>\n",
       "      <td>Gold Food</td>\n",
       "      <td>Штутгарт</td>\n",
       "      <td>Юг</td>\n",
       "      <td>Масла</td>\n",
       "      <td>Подсолнечное масло</td>\n",
       "      <td>1.19</td>\n",
       "      <td>270</td>\n",
       "    </tr>\n",
       "    <tr>\n",
       "      <th>3</th>\n",
       "      <td>NaN</td>\n",
       "      <td>2021-01-01</td>\n",
       "      <td>NutriFix</td>\n",
       "      <td>Штутгарт</td>\n",
       "      <td>Юг</td>\n",
       "      <td>Напитки</td>\n",
       "      <td>Зеленый чай</td>\n",
       "      <td>0.95</td>\n",
       "      <td>196</td>\n",
       "    </tr>\n",
       "    <tr>\n",
       "      <th>4</th>\n",
       "      <td>NaN</td>\n",
       "      <td>2021-01-01</td>\n",
       "      <td>NutriFix</td>\n",
       "      <td>Штутгарт</td>\n",
       "      <td>Юг</td>\n",
       "      <td>Сухофрукты</td>\n",
       "      <td>Сушеные яблоки</td>\n",
       "      <td>1.09</td>\n",
       "      <td>108</td>\n",
       "    </tr>\n",
       "  </tbody>\n",
       "</table>\n",
       "</div>"
      ],
      "text/plain": [
       "   Unnamed: 0       Дата    Заказчик     Город Регион   Категория  \\\n",
       "0         NaN 2021-01-01  Sweetables   Гамбург  Север       Крупы   \n",
       "1         NaN 2021-01-01  Sweetables   Гамбург  Север  Сухофрукты   \n",
       "2         NaN 2021-01-01   Gold Food  Штутгарт     Юг       Масла   \n",
       "3         NaN 2021-01-01    NutriFix  Штутгарт     Юг     Напитки   \n",
       "4         NaN 2021-01-01    NutriFix  Штутгарт     Юг  Сухофрукты   \n",
       "\n",
       "                Товар  Цена за штуку  Количество  \n",
       "0              Гречка           1.40         216  \n",
       "1                Изюм           0.99         127  \n",
       "2  Подсолнечное масло           1.19         270  \n",
       "3         Зеленый чай           0.95         196  \n",
       "4      Сушеные яблоки           1.09         108  "
      ]
     },
     "execution_count": 3,
     "metadata": {},
     "output_type": "execute_result"
    }
   ],
   "source": [
    "df.head()"
   ]
  },
  {
   "cell_type": "code",
   "execution_count": 4,
   "metadata": {},
   "outputs": [],
   "source": [
    "df = df.drop('Unnamed: 0', axis=1)"
   ]
  },
  {
   "cell_type": "code",
   "execution_count": 5,
   "metadata": {},
   "outputs": [],
   "source": [
    "new_columns_name = {'Дата':'date', 'Заказчик':'customer',\n",
    "                   'Город':'city', 'Регион':'region',\n",
    "                   'Категория':'category', 'Товар':'product',\n",
    "                   'Цена за штуку':'piece_price',\n",
    "                   'Количество':'quantity'}\n",
    "df = df.rename(columns=new_columns_name)"
   ]
  },
  {
   "cell_type": "markdown",
   "metadata": {},
   "source": [
    "Период наблюдений"
   ]
  },
  {
   "cell_type": "code",
   "execution_count": 6,
   "metadata": {},
   "outputs": [
    {
     "data": {
      "text/plain": [
       "(Timestamp('2022-12-31 00:00:00'), Timestamp('2021-01-01 00:00:00'))"
      ]
     },
     "execution_count": 6,
     "metadata": {},
     "output_type": "execute_result"
    }
   ],
   "source": [
    "df.date.max(),df.date.min()"
   ]
  },
  {
   "cell_type": "code",
   "execution_count": 7,
   "metadata": {},
   "outputs": [],
   "source": [
    "df['revenue'] = df.piece_price * df.quantity"
   ]
  },
  {
   "cell_type": "markdown",
   "metadata": {},
   "source": [
    "Подсчитаем выручку"
   ]
  },
  {
   "cell_type": "code",
   "execution_count": 8,
   "metadata": {
    "scrolled": true
   },
   "outputs": [
    {
     "data": {
      "text/html": [
       "<div>\n",
       "<style scoped>\n",
       "    .dataframe tbody tr th:only-of-type {\n",
       "        vertical-align: middle;\n",
       "    }\n",
       "\n",
       "    .dataframe tbody tr th {\n",
       "        vertical-align: top;\n",
       "    }\n",
       "\n",
       "    .dataframe thead th {\n",
       "        text-align: right;\n",
       "    }\n",
       "</style>\n",
       "<table border=\"1\" class=\"dataframe\">\n",
       "  <thead>\n",
       "    <tr style=\"text-align: right;\">\n",
       "      <th></th>\n",
       "      <th>date</th>\n",
       "      <th>customer</th>\n",
       "      <th>city</th>\n",
       "      <th>region</th>\n",
       "      <th>category</th>\n",
       "      <th>product</th>\n",
       "      <th>piece_price</th>\n",
       "      <th>quantity</th>\n",
       "      <th>revenue</th>\n",
       "    </tr>\n",
       "  </thead>\n",
       "  <tbody>\n",
       "    <tr>\n",
       "      <th>0</th>\n",
       "      <td>2021-01-01</td>\n",
       "      <td>Sweetables</td>\n",
       "      <td>Гамбург</td>\n",
       "      <td>Север</td>\n",
       "      <td>Крупы</td>\n",
       "      <td>Гречка</td>\n",
       "      <td>1.40</td>\n",
       "      <td>216</td>\n",
       "      <td>302.40</td>\n",
       "    </tr>\n",
       "    <tr>\n",
       "      <th>1</th>\n",
       "      <td>2021-01-01</td>\n",
       "      <td>Sweetables</td>\n",
       "      <td>Гамбург</td>\n",
       "      <td>Север</td>\n",
       "      <td>Сухофрукты</td>\n",
       "      <td>Изюм</td>\n",
       "      <td>0.99</td>\n",
       "      <td>127</td>\n",
       "      <td>125.73</td>\n",
       "    </tr>\n",
       "    <tr>\n",
       "      <th>2</th>\n",
       "      <td>2021-01-01</td>\n",
       "      <td>Gold Food</td>\n",
       "      <td>Штутгарт</td>\n",
       "      <td>Юг</td>\n",
       "      <td>Масла</td>\n",
       "      <td>Подсолнечное масло</td>\n",
       "      <td>1.19</td>\n",
       "      <td>270</td>\n",
       "      <td>321.30</td>\n",
       "    </tr>\n",
       "    <tr>\n",
       "      <th>3</th>\n",
       "      <td>2021-01-01</td>\n",
       "      <td>NutriFix</td>\n",
       "      <td>Штутгарт</td>\n",
       "      <td>Юг</td>\n",
       "      <td>Напитки</td>\n",
       "      <td>Зеленый чай</td>\n",
       "      <td>0.95</td>\n",
       "      <td>196</td>\n",
       "      <td>186.20</td>\n",
       "    </tr>\n",
       "    <tr>\n",
       "      <th>4</th>\n",
       "      <td>2021-01-01</td>\n",
       "      <td>NutriFix</td>\n",
       "      <td>Штутгарт</td>\n",
       "      <td>Юг</td>\n",
       "      <td>Сухофрукты</td>\n",
       "      <td>Сушеные яблоки</td>\n",
       "      <td>1.09</td>\n",
       "      <td>108</td>\n",
       "      <td>117.72</td>\n",
       "    </tr>\n",
       "  </tbody>\n",
       "</table>\n",
       "</div>"
      ],
      "text/plain": [
       "        date    customer      city region    category             product  \\\n",
       "0 2021-01-01  Sweetables   Гамбург  Север       Крупы              Гречка   \n",
       "1 2021-01-01  Sweetables   Гамбург  Север  Сухофрукты                Изюм   \n",
       "2 2021-01-01   Gold Food  Штутгарт     Юг       Масла  Подсолнечное масло   \n",
       "3 2021-01-01    NutriFix  Штутгарт     Юг     Напитки         Зеленый чай   \n",
       "4 2021-01-01    NutriFix  Штутгарт     Юг  Сухофрукты      Сушеные яблоки   \n",
       "\n",
       "   piece_price  quantity  revenue  \n",
       "0         1.40       216   302.40  \n",
       "1         0.99       127   125.73  \n",
       "2         1.19       270   321.30  \n",
       "3         0.95       196   186.20  \n",
       "4         1.09       108   117.72  "
      ]
     },
     "execution_count": 8,
     "metadata": {},
     "output_type": "execute_result"
    }
   ],
   "source": [
    "df.head()"
   ]
  },
  {
   "cell_type": "markdown",
   "metadata": {},
   "source": [
    "Размерность таблицы"
   ]
  },
  {
   "cell_type": "code",
   "execution_count": 9,
   "metadata": {},
   "outputs": [
    {
     "data": {
      "text/plain": [
       "(11028, 9)"
      ]
     },
     "execution_count": 9,
     "metadata": {},
     "output_type": "execute_result"
    }
   ],
   "source": [
    "df.shape"
   ]
  },
  {
   "cell_type": "markdown",
   "metadata": {},
   "source": [
    "Статистическое описание данных"
   ]
  },
  {
   "cell_type": "code",
   "execution_count": 10,
   "metadata": {},
   "outputs": [
    {
     "data": {
      "text/html": [
       "<div>\n",
       "<style scoped>\n",
       "    .dataframe tbody tr th:only-of-type {\n",
       "        vertical-align: middle;\n",
       "    }\n",
       "\n",
       "    .dataframe tbody tr th {\n",
       "        vertical-align: top;\n",
       "    }\n",
       "\n",
       "    .dataframe thead th {\n",
       "        text-align: right;\n",
       "    }\n",
       "</style>\n",
       "<table border=\"1\" class=\"dataframe\">\n",
       "  <thead>\n",
       "    <tr style=\"text-align: right;\">\n",
       "      <th></th>\n",
       "      <th>piece_price</th>\n",
       "      <th>quantity</th>\n",
       "      <th>revenue</th>\n",
       "    </tr>\n",
       "  </thead>\n",
       "  <tbody>\n",
       "    <tr>\n",
       "      <th>count</th>\n",
       "      <td>11028.000000</td>\n",
       "      <td>11028.000000</td>\n",
       "      <td>11028.000000</td>\n",
       "    </tr>\n",
       "    <tr>\n",
       "      <th>mean</th>\n",
       "      <td>1.208041</td>\n",
       "      <td>194.540170</td>\n",
       "      <td>228.980648</td>\n",
       "    </tr>\n",
       "    <tr>\n",
       "      <th>std</th>\n",
       "      <td>0.982920</td>\n",
       "      <td>214.696829</td>\n",
       "      <td>349.710909</td>\n",
       "    </tr>\n",
       "    <tr>\n",
       "      <th>min</th>\n",
       "      <td>0.550000</td>\n",
       "      <td>6.000000</td>\n",
       "      <td>3.900000</td>\n",
       "    </tr>\n",
       "    <tr>\n",
       "      <th>25%</th>\n",
       "      <td>0.650000</td>\n",
       "      <td>63.000000</td>\n",
       "      <td>60.200000</td>\n",
       "    </tr>\n",
       "    <tr>\n",
       "      <th>50%</th>\n",
       "      <td>0.990000</td>\n",
       "      <td>123.000000</td>\n",
       "      <td>128.090000</td>\n",
       "    </tr>\n",
       "    <tr>\n",
       "      <th>75%</th>\n",
       "      <td>1.200000</td>\n",
       "      <td>241.000000</td>\n",
       "      <td>269.280000</td>\n",
       "    </tr>\n",
       "    <tr>\n",
       "      <th>max</th>\n",
       "      <td>5.500000</td>\n",
       "      <td>2294.000000</td>\n",
       "      <td>9608.500000</td>\n",
       "    </tr>\n",
       "  </tbody>\n",
       "</table>\n",
       "</div>"
      ],
      "text/plain": [
       "        piece_price      quantity       revenue\n",
       "count  11028.000000  11028.000000  11028.000000\n",
       "mean       1.208041    194.540170    228.980648\n",
       "std        0.982920    214.696829    349.710909\n",
       "min        0.550000      6.000000      3.900000\n",
       "25%        0.650000     63.000000     60.200000\n",
       "50%        0.990000    123.000000    128.090000\n",
       "75%        1.200000    241.000000    269.280000\n",
       "max        5.500000   2294.000000   9608.500000"
      ]
     },
     "execution_count": 10,
     "metadata": {},
     "output_type": "execute_result"
    }
   ],
   "source": [
    "df.describe()"
   ]
  },
  {
   "cell_type": "markdown",
   "metadata": {},
   "source": [
    "## Задание 2\n",
    "\n",
    "Посчитать суммарную выручку за все время, за года, кварталы, недели, построить графики"
   ]
  },
  {
   "cell_type": "markdown",
   "metadata": {},
   "source": [
    "Суммарная выручка, в тыс. у.е."
   ]
  },
  {
   "cell_type": "code",
   "execution_count": 11,
   "metadata": {},
   "outputs": [
    {
     "data": {
      "text/plain": [
       "2525.19859"
      ]
     },
     "execution_count": 11,
     "metadata": {},
     "output_type": "execute_result"
    }
   ],
   "source": [
    "df.revenue.sum()/1000"
   ]
  },
  {
   "cell_type": "code",
   "execution_count": 12,
   "metadata": {},
   "outputs": [],
   "source": [
    "df_with_reset_index = df.set_index('date')"
   ]
  },
  {
   "cell_type": "code",
   "execution_count": 13,
   "metadata": {},
   "outputs": [
    {
     "data": {
      "text/html": [
       "<div>\n",
       "<style scoped>\n",
       "    .dataframe tbody tr th:only-of-type {\n",
       "        vertical-align: middle;\n",
       "    }\n",
       "\n",
       "    .dataframe tbody tr th {\n",
       "        vertical-align: top;\n",
       "    }\n",
       "\n",
       "    .dataframe thead th {\n",
       "        text-align: right;\n",
       "    }\n",
       "</style>\n",
       "<table border=\"1\" class=\"dataframe\">\n",
       "  <thead>\n",
       "    <tr style=\"text-align: right;\">\n",
       "      <th></th>\n",
       "      <th>customer</th>\n",
       "      <th>city</th>\n",
       "      <th>region</th>\n",
       "      <th>category</th>\n",
       "      <th>product</th>\n",
       "      <th>piece_price</th>\n",
       "      <th>quantity</th>\n",
       "      <th>revenue</th>\n",
       "    </tr>\n",
       "    <tr>\n",
       "      <th>date</th>\n",
       "      <th></th>\n",
       "      <th></th>\n",
       "      <th></th>\n",
       "      <th></th>\n",
       "      <th></th>\n",
       "      <th></th>\n",
       "      <th></th>\n",
       "      <th></th>\n",
       "    </tr>\n",
       "  </thead>\n",
       "  <tbody>\n",
       "    <tr>\n",
       "      <th>2021-01-01</th>\n",
       "      <td>Sweetables</td>\n",
       "      <td>Гамбург</td>\n",
       "      <td>Север</td>\n",
       "      <td>Крупы</td>\n",
       "      <td>Гречка</td>\n",
       "      <td>1.40</td>\n",
       "      <td>216</td>\n",
       "      <td>302.40</td>\n",
       "    </tr>\n",
       "    <tr>\n",
       "      <th>2021-01-01</th>\n",
       "      <td>Sweetables</td>\n",
       "      <td>Гамбург</td>\n",
       "      <td>Север</td>\n",
       "      <td>Сухофрукты</td>\n",
       "      <td>Изюм</td>\n",
       "      <td>0.99</td>\n",
       "      <td>127</td>\n",
       "      <td>125.73</td>\n",
       "    </tr>\n",
       "    <tr>\n",
       "      <th>2021-01-01</th>\n",
       "      <td>Gold Food</td>\n",
       "      <td>Штутгарт</td>\n",
       "      <td>Юг</td>\n",
       "      <td>Масла</td>\n",
       "      <td>Подсолнечное масло</td>\n",
       "      <td>1.19</td>\n",
       "      <td>270</td>\n",
       "      <td>321.30</td>\n",
       "    </tr>\n",
       "    <tr>\n",
       "      <th>2021-01-01</th>\n",
       "      <td>NutriFix</td>\n",
       "      <td>Штутгарт</td>\n",
       "      <td>Юг</td>\n",
       "      <td>Напитки</td>\n",
       "      <td>Зеленый чай</td>\n",
       "      <td>0.95</td>\n",
       "      <td>196</td>\n",
       "      <td>186.20</td>\n",
       "    </tr>\n",
       "    <tr>\n",
       "      <th>2021-01-01</th>\n",
       "      <td>NutriFix</td>\n",
       "      <td>Штутгарт</td>\n",
       "      <td>Юг</td>\n",
       "      <td>Сухофрукты</td>\n",
       "      <td>Сушеные яблоки</td>\n",
       "      <td>1.09</td>\n",
       "      <td>108</td>\n",
       "      <td>117.72</td>\n",
       "    </tr>\n",
       "  </tbody>\n",
       "</table>\n",
       "</div>"
      ],
      "text/plain": [
       "              customer      city region    category             product  \\\n",
       "date                                                                      \n",
       "2021-01-01  Sweetables   Гамбург  Север       Крупы              Гречка   \n",
       "2021-01-01  Sweetables   Гамбург  Север  Сухофрукты                Изюм   \n",
       "2021-01-01   Gold Food  Штутгарт     Юг       Масла  Подсолнечное масло   \n",
       "2021-01-01    NutriFix  Штутгарт     Юг     Напитки         Зеленый чай   \n",
       "2021-01-01    NutriFix  Штутгарт     Юг  Сухофрукты      Сушеные яблоки   \n",
       "\n",
       "            piece_price  quantity  revenue  \n",
       "date                                        \n",
       "2021-01-01         1.40       216   302.40  \n",
       "2021-01-01         0.99       127   125.73  \n",
       "2021-01-01         1.19       270   321.30  \n",
       "2021-01-01         0.95       196   186.20  \n",
       "2021-01-01         1.09       108   117.72  "
      ]
     },
     "execution_count": 13,
     "metadata": {},
     "output_type": "execute_result"
    }
   ],
   "source": [
    "df_with_reset_index.head()"
   ]
  },
  {
   "cell_type": "code",
   "execution_count": 14,
   "metadata": {},
   "outputs": [
    {
     "data": {
      "text/html": [
       "<div>\n",
       "<style scoped>\n",
       "    .dataframe tbody tr th:only-of-type {\n",
       "        vertical-align: middle;\n",
       "    }\n",
       "\n",
       "    .dataframe tbody tr th {\n",
       "        vertical-align: top;\n",
       "    }\n",
       "\n",
       "    .dataframe thead th {\n",
       "        text-align: right;\n",
       "    }\n",
       "</style>\n",
       "<table border=\"1\" class=\"dataframe\">\n",
       "  <thead>\n",
       "    <tr style=\"text-align: right;\">\n",
       "      <th></th>\n",
       "      <th>piece_price</th>\n",
       "      <th>quantity</th>\n",
       "      <th>revenue</th>\n",
       "    </tr>\n",
       "    <tr>\n",
       "      <th>date</th>\n",
       "      <th></th>\n",
       "      <th></th>\n",
       "      <th></th>\n",
       "    </tr>\n",
       "  </thead>\n",
       "  <tbody>\n",
       "    <tr>\n",
       "      <th>2021-12-31</th>\n",
       "      <td>5970.88</td>\n",
       "      <td>963752</td>\n",
       "      <td>1096874.22</td>\n",
       "    </tr>\n",
       "    <tr>\n",
       "      <th>2022-12-31</th>\n",
       "      <td>7351.40</td>\n",
       "      <td>1181637</td>\n",
       "      <td>1428324.37</td>\n",
       "    </tr>\n",
       "  </tbody>\n",
       "</table>\n",
       "</div>"
      ],
      "text/plain": [
       "            piece_price  quantity     revenue\n",
       "date                                         \n",
       "2021-12-31      5970.88    963752  1096874.22\n",
       "2022-12-31      7351.40   1181637  1428324.37"
      ]
     },
     "execution_count": 14,
     "metadata": {},
     "output_type": "execute_result"
    }
   ],
   "source": [
    "df_with_reset_index.resample(rule='A').sum()"
   ]
  },
  {
   "cell_type": "code",
   "execution_count": 15,
   "metadata": {},
   "outputs": [],
   "source": [
    "df_year = df_with_reset_index.resample(rule='A').sum()"
   ]
  },
  {
   "cell_type": "code",
   "execution_count": 16,
   "metadata": {},
   "outputs": [
    {
     "data": {
      "text/html": [
       "<div>\n",
       "<style scoped>\n",
       "    .dataframe tbody tr th:only-of-type {\n",
       "        vertical-align: middle;\n",
       "    }\n",
       "\n",
       "    .dataframe tbody tr th {\n",
       "        vertical-align: top;\n",
       "    }\n",
       "\n",
       "    .dataframe thead th {\n",
       "        text-align: right;\n",
       "    }\n",
       "</style>\n",
       "<table border=\"1\" class=\"dataframe\">\n",
       "  <thead>\n",
       "    <tr style=\"text-align: right;\">\n",
       "      <th></th>\n",
       "      <th>piece_price</th>\n",
       "      <th>quantity</th>\n",
       "      <th>revenue</th>\n",
       "    </tr>\n",
       "    <tr>\n",
       "      <th>date</th>\n",
       "      <th></th>\n",
       "      <th></th>\n",
       "      <th></th>\n",
       "    </tr>\n",
       "  </thead>\n",
       "  <tbody>\n",
       "    <tr>\n",
       "      <th>2021-12-31</th>\n",
       "      <td>5970.88</td>\n",
       "      <td>963752</td>\n",
       "      <td>1096874.22</td>\n",
       "    </tr>\n",
       "    <tr>\n",
       "      <th>2022-12-31</th>\n",
       "      <td>7351.40</td>\n",
       "      <td>1181637</td>\n",
       "      <td>1428324.37</td>\n",
       "    </tr>\n",
       "  </tbody>\n",
       "</table>\n",
       "</div>"
      ],
      "text/plain": [
       "            piece_price  quantity     revenue\n",
       "date                                         \n",
       "2021-12-31      5970.88    963752  1096874.22\n",
       "2022-12-31      7351.40   1181637  1428324.37"
      ]
     },
     "execution_count": 16,
     "metadata": {},
     "output_type": "execute_result"
    }
   ],
   "source": [
    "df_year"
   ]
  },
  {
   "cell_type": "code",
   "execution_count": 17,
   "metadata": {},
   "outputs": [],
   "source": [
    "df_year = df_year.set_index(df_year.index.strftime('%Y'))"
   ]
  },
  {
   "cell_type": "code",
   "execution_count": 18,
   "metadata": {},
   "outputs": [
    {
     "data": {
      "text/html": [
       "<div>\n",
       "<style scoped>\n",
       "    .dataframe tbody tr th:only-of-type {\n",
       "        vertical-align: middle;\n",
       "    }\n",
       "\n",
       "    .dataframe tbody tr th {\n",
       "        vertical-align: top;\n",
       "    }\n",
       "\n",
       "    .dataframe thead th {\n",
       "        text-align: right;\n",
       "    }\n",
       "</style>\n",
       "<table border=\"1\" class=\"dataframe\">\n",
       "  <thead>\n",
       "    <tr style=\"text-align: right;\">\n",
       "      <th></th>\n",
       "      <th>piece_price</th>\n",
       "      <th>quantity</th>\n",
       "      <th>revenue</th>\n",
       "    </tr>\n",
       "    <tr>\n",
       "      <th>date</th>\n",
       "      <th></th>\n",
       "      <th></th>\n",
       "      <th></th>\n",
       "    </tr>\n",
       "  </thead>\n",
       "  <tbody>\n",
       "    <tr>\n",
       "      <th>2021</th>\n",
       "      <td>5970.88</td>\n",
       "      <td>963752</td>\n",
       "      <td>1096874.22</td>\n",
       "    </tr>\n",
       "    <tr>\n",
       "      <th>2022</th>\n",
       "      <td>7351.40</td>\n",
       "      <td>1181637</td>\n",
       "      <td>1428324.37</td>\n",
       "    </tr>\n",
       "  </tbody>\n",
       "</table>\n",
       "</div>"
      ],
      "text/plain": [
       "      piece_price  quantity     revenue\n",
       "date                                   \n",
       "2021      5970.88    963752  1096874.22\n",
       "2022      7351.40   1181637  1428324.37"
      ]
     },
     "execution_count": 18,
     "metadata": {},
     "output_type": "execute_result"
    }
   ],
   "source": [
    "df_year"
   ]
  },
  {
   "cell_type": "code",
   "execution_count": 19,
   "metadata": {
    "scrolled": false
   },
   "outputs": [
    {
     "data": {
      "image/png": "[encoded data removed]",
      "text/plain": [
       "<Figure size 720x432 with 1 Axes>"
      ]
     },
     "metadata": {
      "needs_background": "light"
     },
     "output_type": "display_data"
    },
    {
     "data": {
      "text/plain": [
       "<Figure size 432x288 with 0 Axes>"
      ]
     },
     "metadata": {},
     "output_type": "display_data"
    }
   ],
   "source": [
    "plt.figure(figsize=(10,6))\n",
    "plt.bar(df_year.index,\n",
    "        df_year.revenue/10**6, width = 0.5, color='#6A48D7')\n",
    "plt.xlabel('Год')\n",
    "plt.ylabel('Выручка, млн. у.е.')\n",
    "plt.grid()\n",
    "plt.show()\n",
    "plt.savefig('revenue_year', dpi=300)"
   ]
  },
  {
   "cell_type": "code",
   "execution_count": 20,
   "metadata": {},
   "outputs": [],
   "source": [
    "df_quart = df_with_reset_index.resample(rule='Q').sum()"
   ]
  },
  {
   "cell_type": "code",
   "execution_count": 21,
   "metadata": {},
   "outputs": [
    {
     "data": {
      "text/html": [
       "<div>\n",
       "<style scoped>\n",
       "    .dataframe tbody tr th:only-of-type {\n",
       "        vertical-align: middle;\n",
       "    }\n",
       "\n",
       "    .dataframe tbody tr th {\n",
       "        vertical-align: top;\n",
       "    }\n",
       "\n",
       "    .dataframe thead th {\n",
       "        text-align: right;\n",
       "    }\n",
       "</style>\n",
       "<table border=\"1\" class=\"dataframe\">\n",
       "  <thead>\n",
       "    <tr style=\"text-align: right;\">\n",
       "      <th></th>\n",
       "      <th>piece_price</th>\n",
       "      <th>quantity</th>\n",
       "      <th>revenue</th>\n",
       "    </tr>\n",
       "    <tr>\n",
       "      <th>date</th>\n",
       "      <th></th>\n",
       "      <th></th>\n",
       "      <th></th>\n",
       "    </tr>\n",
       "  </thead>\n",
       "  <tbody>\n",
       "    <tr>\n",
       "      <th>2021-03-31</th>\n",
       "      <td>2548.73</td>\n",
       "      <td>394188</td>\n",
       "      <td>448727.83</td>\n",
       "    </tr>\n",
       "    <tr>\n",
       "      <th>2021-06-30</th>\n",
       "      <td>1539.69</td>\n",
       "      <td>248657</td>\n",
       "      <td>287874.69</td>\n",
       "    </tr>\n",
       "    <tr>\n",
       "      <th>2021-09-30</th>\n",
       "      <td>973.77</td>\n",
       "      <td>159825</td>\n",
       "      <td>182005.97</td>\n",
       "    </tr>\n",
       "    <tr>\n",
       "      <th>2021-12-31</th>\n",
       "      <td>908.69</td>\n",
       "      <td>161082</td>\n",
       "      <td>178265.73</td>\n",
       "    </tr>\n",
       "    <tr>\n",
       "      <th>2022-03-31</th>\n",
       "      <td>3300.00</td>\n",
       "      <td>522821</td>\n",
       "      <td>621015.41</td>\n",
       "    </tr>\n",
       "    <tr>\n",
       "      <th>2022-06-30</th>\n",
       "      <td>1422.38</td>\n",
       "      <td>228556</td>\n",
       "      <td>263122.21</td>\n",
       "    </tr>\n",
       "    <tr>\n",
       "      <th>2022-09-30</th>\n",
       "      <td>1405.49</td>\n",
       "      <td>243442</td>\n",
       "      <td>327437.48</td>\n",
       "    </tr>\n",
       "    <tr>\n",
       "      <th>2022-12-31</th>\n",
       "      <td>1223.53</td>\n",
       "      <td>186818</td>\n",
       "      <td>216749.27</td>\n",
       "    </tr>\n",
       "  </tbody>\n",
       "</table>\n",
       "</div>"
      ],
      "text/plain": [
       "            piece_price  quantity    revenue\n",
       "date                                        \n",
       "2021-03-31      2548.73    394188  448727.83\n",
       "2021-06-30      1539.69    248657  287874.69\n",
       "2021-09-30       973.77    159825  182005.97\n",
       "2021-12-31       908.69    161082  178265.73\n",
       "2022-03-31      3300.00    522821  621015.41\n",
       "2022-06-30      1422.38    228556  263122.21\n",
       "2022-09-30      1405.49    243442  327437.48\n",
       "2022-12-31      1223.53    186818  216749.27"
      ]
     },
     "execution_count": 21,
     "metadata": {},
     "output_type": "execute_result"
    }
   ],
   "source": [
    "df_quart"
   ]
  },
  {
   "cell_type": "code",
   "execution_count": 22,
   "metadata": {},
   "outputs": [],
   "source": [
    "df_quart['quart_name'] = ['2021 Q1','2021 Q2',\n",
    "                                  '2021 Q3','2021 Q4',\n",
    "                                  '2022 Q1','2022 Q2',\n",
    "                                  '2022 Q3','2022 Q4']"
   ]
  },
  {
   "cell_type": "code",
   "execution_count": 23,
   "metadata": {},
   "outputs": [
    {
     "data": {
      "text/html": [
       "<div>\n",
       "<style scoped>\n",
       "    .dataframe tbody tr th:only-of-type {\n",
       "        vertical-align: middle;\n",
       "    }\n",
       "\n",
       "    .dataframe tbody tr th {\n",
       "        vertical-align: top;\n",
       "    }\n",
       "\n",
       "    .dataframe thead th {\n",
       "        text-align: right;\n",
       "    }\n",
       "</style>\n",
       "<table border=\"1\" class=\"dataframe\">\n",
       "  <thead>\n",
       "    <tr style=\"text-align: right;\">\n",
       "      <th></th>\n",
       "      <th>piece_price</th>\n",
       "      <th>quantity</th>\n",
       "      <th>revenue</th>\n",
       "      <th>quart_name</th>\n",
       "    </tr>\n",
       "    <tr>\n",
       "      <th>date</th>\n",
       "      <th></th>\n",
       "      <th></th>\n",
       "      <th></th>\n",
       "      <th></th>\n",
       "    </tr>\n",
       "  </thead>\n",
       "  <tbody>\n",
       "    <tr>\n",
       "      <th>2021-03-31</th>\n",
       "      <td>2548.73</td>\n",
       "      <td>394188</td>\n",
       "      <td>448727.83</td>\n",
       "      <td>2021 Q1</td>\n",
       "    </tr>\n",
       "    <tr>\n",
       "      <th>2021-06-30</th>\n",
       "      <td>1539.69</td>\n",
       "      <td>248657</td>\n",
       "      <td>287874.69</td>\n",
       "      <td>2021 Q2</td>\n",
       "    </tr>\n",
       "    <tr>\n",
       "      <th>2021-09-30</th>\n",
       "      <td>973.77</td>\n",
       "      <td>159825</td>\n",
       "      <td>182005.97</td>\n",
       "      <td>2021 Q3</td>\n",
       "    </tr>\n",
       "    <tr>\n",
       "      <th>2021-12-31</th>\n",
       "      <td>908.69</td>\n",
       "      <td>161082</td>\n",
       "      <td>178265.73</td>\n",
       "      <td>2021 Q4</td>\n",
       "    </tr>\n",
       "    <tr>\n",
       "      <th>2022-03-31</th>\n",
       "      <td>3300.00</td>\n",
       "      <td>522821</td>\n",
       "      <td>621015.41</td>\n",
       "      <td>2022 Q1</td>\n",
       "    </tr>\n",
       "    <tr>\n",
       "      <th>2022-06-30</th>\n",
       "      <td>1422.38</td>\n",
       "      <td>228556</td>\n",
       "      <td>263122.21</td>\n",
       "      <td>2022 Q2</td>\n",
       "    </tr>\n",
       "    <tr>\n",
       "      <th>2022-09-30</th>\n",
       "      <td>1405.49</td>\n",
       "      <td>243442</td>\n",
       "      <td>327437.48</td>\n",
       "      <td>2022 Q3</td>\n",
       "    </tr>\n",
       "    <tr>\n",
       "      <th>2022-12-31</th>\n",
       "      <td>1223.53</td>\n",
       "      <td>186818</td>\n",
       "      <td>216749.27</td>\n",
       "      <td>2022 Q4</td>\n",
       "    </tr>\n",
       "  </tbody>\n",
       "</table>\n",
       "</div>"
      ],
      "text/plain": [
       "            piece_price  quantity    revenue quart_name\n",
       "date                                                   \n",
       "2021-03-31      2548.73    394188  448727.83    2021 Q1\n",
       "2021-06-30      1539.69    248657  287874.69    2021 Q2\n",
       "2021-09-30       973.77    159825  182005.97    2021 Q3\n",
       "2021-12-31       908.69    161082  178265.73    2021 Q4\n",
       "2022-03-31      3300.00    522821  621015.41    2022 Q1\n",
       "2022-06-30      1422.38    228556  263122.21    2022 Q2\n",
       "2022-09-30      1405.49    243442  327437.48    2022 Q3\n",
       "2022-12-31      1223.53    186818  216749.27    2022 Q4"
      ]
     },
     "execution_count": 23,
     "metadata": {},
     "output_type": "execute_result"
    }
   ],
   "source": [
    "df_quart"
   ]
  },
  {
   "cell_type": "code",
   "execution_count": 24,
   "metadata": {
    "scrolled": false
   },
   "outputs": [
    {
     "data": {
      "image/png": "[encoded data removed]",
      "text/plain": [
       "<Figure size 720x432 with 1 Axes>"
      ]
     },
     "metadata": {
      "needs_background": "light"
     },
     "output_type": "display_data"
    },
    {
     "data": {
      "text/plain": [
       "<Figure size 432x288 with 0 Axes>"
      ]
     },
     "metadata": {},
     "output_type": "display_data"
    }
   ],
   "source": [
    "plt.figure(figsize=(10,6))\n",
    "plt.bar(df_quart.quart_name,\n",
    "        df_quart.revenue/10**3, width = 0.5, color='#6A48D7')\n",
    "plt.xlabel('Квартал')\n",
    "plt.ylabel('Выручка, тыс. у.е.')\n",
    "plt.xticks(rotation=45)\n",
    "plt.grid()\n",
    "plt.show()\n",
    "plt.savefig('revenue_quart', dpi=300)"
   ]
  },
  {
   "cell_type": "code",
   "execution_count": 25,
   "metadata": {},
   "outputs": [],
   "source": [
    "df_month = df_with_reset_index.resample(rule='M').sum()"
   ]
  },
  {
   "cell_type": "code",
   "execution_count": 26,
   "metadata": {},
   "outputs": [
    {
     "data": {
      "text/html": [
       "<div>\n",
       "<style scoped>\n",
       "    .dataframe tbody tr th:only-of-type {\n",
       "        vertical-align: middle;\n",
       "    }\n",
       "\n",
       "    .dataframe tbody tr th {\n",
       "        vertical-align: top;\n",
       "    }\n",
       "\n",
       "    .dataframe thead th {\n",
       "        text-align: right;\n",
       "    }\n",
       "</style>\n",
       "<table border=\"1\" class=\"dataframe\">\n",
       "  <thead>\n",
       "    <tr style=\"text-align: right;\">\n",
       "      <th></th>\n",
       "      <th>piece_price</th>\n",
       "      <th>quantity</th>\n",
       "      <th>revenue</th>\n",
       "    </tr>\n",
       "    <tr>\n",
       "      <th>date</th>\n",
       "      <th></th>\n",
       "      <th></th>\n",
       "      <th></th>\n",
       "    </tr>\n",
       "  </thead>\n",
       "  <tbody>\n",
       "    <tr>\n",
       "      <th>2021-01-31</th>\n",
       "      <td>238.21</td>\n",
       "      <td>38992</td>\n",
       "      <td>46320.71</td>\n",
       "    </tr>\n",
       "    <tr>\n",
       "      <th>2021-02-28</th>\n",
       "      <td>1043.60</td>\n",
       "      <td>154494</td>\n",
       "      <td>175277.04</td>\n",
       "    </tr>\n",
       "    <tr>\n",
       "      <th>2021-03-31</th>\n",
       "      <td>1266.92</td>\n",
       "      <td>200702</td>\n",
       "      <td>227130.08</td>\n",
       "    </tr>\n",
       "    <tr>\n",
       "      <th>2021-04-30</th>\n",
       "      <td>766.26</td>\n",
       "      <td>130065</td>\n",
       "      <td>156139.88</td>\n",
       "    </tr>\n",
       "    <tr>\n",
       "      <th>2021-05-31</th>\n",
       "      <td>468.17</td>\n",
       "      <td>74864</td>\n",
       "      <td>82178.21</td>\n",
       "    </tr>\n",
       "  </tbody>\n",
       "</table>\n",
       "</div>"
      ],
      "text/plain": [
       "            piece_price  quantity    revenue\n",
       "date                                        \n",
       "2021-01-31       238.21     38992   46320.71\n",
       "2021-02-28      1043.60    154494  175277.04\n",
       "2021-03-31      1266.92    200702  227130.08\n",
       "2021-04-30       766.26    130065  156139.88\n",
       "2021-05-31       468.17     74864   82178.21"
      ]
     },
     "execution_count": 26,
     "metadata": {},
     "output_type": "execute_result"
    }
   ],
   "source": [
    "df_month.head()"
   ]
  },
  {
   "cell_type": "code",
   "execution_count": 27,
   "metadata": {},
   "outputs": [],
   "source": [
    "df_month = df_month.set_index(df_month.index.strftime('%m/%Y'))"
   ]
  },
  {
   "cell_type": "code",
   "execution_count": 28,
   "metadata": {},
   "outputs": [
    {
     "data": {
      "text/html": [
       "<div>\n",
       "<style scoped>\n",
       "    .dataframe tbody tr th:only-of-type {\n",
       "        vertical-align: middle;\n",
       "    }\n",
       "\n",
       "    .dataframe tbody tr th {\n",
       "        vertical-align: top;\n",
       "    }\n",
       "\n",
       "    .dataframe thead th {\n",
       "        text-align: right;\n",
       "    }\n",
       "</style>\n",
       "<table border=\"1\" class=\"dataframe\">\n",
       "  <thead>\n",
       "    <tr style=\"text-align: right;\">\n",
       "      <th></th>\n",
       "      <th>piece_price</th>\n",
       "      <th>quantity</th>\n",
       "      <th>revenue</th>\n",
       "    </tr>\n",
       "    <tr>\n",
       "      <th>date</th>\n",
       "      <th></th>\n",
       "      <th></th>\n",
       "      <th></th>\n",
       "    </tr>\n",
       "  </thead>\n",
       "  <tbody>\n",
       "    <tr>\n",
       "      <th>01/2021</th>\n",
       "      <td>238.21</td>\n",
       "      <td>38992</td>\n",
       "      <td>46320.71</td>\n",
       "    </tr>\n",
       "    <tr>\n",
       "      <th>02/2021</th>\n",
       "      <td>1043.60</td>\n",
       "      <td>154494</td>\n",
       "      <td>175277.04</td>\n",
       "    </tr>\n",
       "    <tr>\n",
       "      <th>03/2021</th>\n",
       "      <td>1266.92</td>\n",
       "      <td>200702</td>\n",
       "      <td>227130.08</td>\n",
       "    </tr>\n",
       "    <tr>\n",
       "      <th>04/2021</th>\n",
       "      <td>766.26</td>\n",
       "      <td>130065</td>\n",
       "      <td>156139.88</td>\n",
       "    </tr>\n",
       "    <tr>\n",
       "      <th>05/2021</th>\n",
       "      <td>468.17</td>\n",
       "      <td>74864</td>\n",
       "      <td>82178.21</td>\n",
       "    </tr>\n",
       "  </tbody>\n",
       "</table>\n",
       "</div>"
      ],
      "text/plain": [
       "         piece_price  quantity    revenue\n",
       "date                                     \n",
       "01/2021       238.21     38992   46320.71\n",
       "02/2021      1043.60    154494  175277.04\n",
       "03/2021      1266.92    200702  227130.08\n",
       "04/2021       766.26    130065  156139.88\n",
       "05/2021       468.17     74864   82178.21"
      ]
     },
     "execution_count": 28,
     "metadata": {},
     "output_type": "execute_result"
    }
   ],
   "source": [
    "df_month.head()"
   ]
  },
  {
   "cell_type": "code",
   "execution_count": 29,
   "metadata": {
    "scrolled": false
   },
   "outputs": [
    {
     "data": {
      "image/png": "[encoded data removed]",
      "text/plain": [
       "<Figure size 1080x648 with 1 Axes>"
      ]
     },
     "metadata": {
      "needs_background": "light"
     },
     "output_type": "display_data"
    },
    {
     "data": {
      "text/plain": [
       "<Figure size 432x288 with 0 Axes>"
      ]
     },
     "metadata": {},
     "output_type": "display_data"
    }
   ],
   "source": [
    "plt.figure(figsize=(15,9))\n",
    "plt.bar(df_month.index,\n",
    "        df_month.revenue/10**3, width = 0.5, color='#6A48D7')\n",
    "plt.xlabel('Месяц')\n",
    "plt.ylabel('Выручка, тыс. у.е.')\n",
    "plt.xticks(rotation=45)\n",
    "plt.grid()\n",
    "plt.show()\n",
    "plt.savefig('revenue_month', dpi=300)"
   ]
  },
  {
   "cell_type": "code",
   "execution_count": 30,
   "metadata": {},
   "outputs": [],
   "source": [
    "df_week = df_with_reset_index.resample(rule='W').sum()"
   ]
  },
  {
   "cell_type": "code",
   "execution_count": 31,
   "metadata": {},
   "outputs": [
    {
     "data": {
      "text/html": [
       "<div>\n",
       "<style scoped>\n",
       "    .dataframe tbody tr th:only-of-type {\n",
       "        vertical-align: middle;\n",
       "    }\n",
       "\n",
       "    .dataframe tbody tr th {\n",
       "        vertical-align: top;\n",
       "    }\n",
       "\n",
       "    .dataframe thead th {\n",
       "        text-align: right;\n",
       "    }\n",
       "</style>\n",
       "<table border=\"1\" class=\"dataframe\">\n",
       "  <thead>\n",
       "    <tr style=\"text-align: right;\">\n",
       "      <th></th>\n",
       "      <th>piece_price</th>\n",
       "      <th>quantity</th>\n",
       "      <th>revenue</th>\n",
       "    </tr>\n",
       "    <tr>\n",
       "      <th>date</th>\n",
       "      <th></th>\n",
       "      <th></th>\n",
       "      <th></th>\n",
       "    </tr>\n",
       "  </thead>\n",
       "  <tbody>\n",
       "    <tr>\n",
       "      <th>2021-01-03</th>\n",
       "      <td>25.78</td>\n",
       "      <td>3560</td>\n",
       "      <td>4388.07</td>\n",
       "    </tr>\n",
       "    <tr>\n",
       "      <th>2021-01-10</th>\n",
       "      <td>51.48</td>\n",
       "      <td>10180</td>\n",
       "      <td>14703.61</td>\n",
       "    </tr>\n",
       "    <tr>\n",
       "      <th>2021-01-17</th>\n",
       "      <td>24.97</td>\n",
       "      <td>2314</td>\n",
       "      <td>3177.09</td>\n",
       "    </tr>\n",
       "    <tr>\n",
       "      <th>2021-01-24</th>\n",
       "      <td>48.77</td>\n",
       "      <td>5596</td>\n",
       "      <td>6238.96</td>\n",
       "    </tr>\n",
       "    <tr>\n",
       "      <th>2021-01-31</th>\n",
       "      <td>87.21</td>\n",
       "      <td>17342</td>\n",
       "      <td>17812.98</td>\n",
       "    </tr>\n",
       "  </tbody>\n",
       "</table>\n",
       "</div>"
      ],
      "text/plain": [
       "            piece_price  quantity   revenue\n",
       "date                                       \n",
       "2021-01-03        25.78      3560   4388.07\n",
       "2021-01-10        51.48     10180  14703.61\n",
       "2021-01-17        24.97      2314   3177.09\n",
       "2021-01-24        48.77      5596   6238.96\n",
       "2021-01-31        87.21     17342  17812.98"
      ]
     },
     "execution_count": 31,
     "metadata": {},
     "output_type": "execute_result"
    }
   ],
   "source": [
    "df_week.head()"
   ]
  },
  {
   "cell_type": "markdown",
   "metadata": {},
   "source": [
    "Построим линейную регрессию"
   ]
  },
  {
   "cell_type": "code",
   "execution_count": 32,
   "metadata": {},
   "outputs": [],
   "source": [
    "from scipy import stats"
   ]
  },
  {
   "cell_type": "code",
   "execution_count": 33,
   "metadata": {},
   "outputs": [],
   "source": [
    "df_week['weeks_from_start'] = [i for i in range(len(df_week))]"
   ]
  },
  {
   "cell_type": "code",
   "execution_count": 34,
   "metadata": {},
   "outputs": [],
   "source": [
    "x = df_week['weeks_from_start'].values\n",
    "y = df_week['revenue'].values/10**3\n",
    "res = stats.linregress(x, y)"
   ]
  },
  {
   "cell_type": "code",
   "execution_count": 35,
   "metadata": {},
   "outputs": [
    {
     "name": "stdout",
     "output_type": "stream",
     "text": [
      "R-squared: 0.01\n"
     ]
    }
   ],
   "source": [
    "print(f\"R-squared: {res.rvalue**2:.2f}\")"
   ]
  },
  {
   "cell_type": "code",
   "execution_count": 36,
   "metadata": {
    "scrolled": false
   },
   "outputs": [
    {
     "data": {
      "image/png": "[encoded data removed]",
      "text/plain": [
       "<Figure size 1080x648 with 1 Axes>"
      ]
     },
     "metadata": {
      "needs_background": "light"
     },
     "output_type": "display_data"
    },
    {
     "data": {
      "text/plain": [
       "<Figure size 432x288 with 0 Axes>"
      ]
     },
     "metadata": {},
     "output_type": "display_data"
    }
   ],
   "source": [
    "plt.figure(figsize=(15,9))\n",
    "plt.plot(df_week.index,\n",
    "        df_week.revenue/10**3, color='#6A48D7')\n",
    "plt.plot(df_week.index, res.intercept + res.slope*x, color='red')\n",
    "plt.xlabel('Неделя')\n",
    "plt.ylabel('Выручка, тыс. у.е.')\n",
    "plt.text('2022-07',50,f'$R^{2} = {res.rvalue**2:.2f} $',horizontalalignment='center', verticalalignment='center')\n",
    "plt.text('2022-07',55,f'$y = {res.slope:.2f}x + {res.intercept:.2f} $', \\\n",
    "horizontalalignment='center', verticalalignment='center')\n",
    "plt.xticks(rotation=0)\n",
    "plt.grid()\n",
    "plt.show()\n",
    "plt.savefig('revenue_week', dpi=300)"
   ]
  },
  {
   "cell_type": "markdown",
   "metadata": {},
   "source": [
    "Линия тренда продаж, имеет отрицательный наклон"
   ]
  },
  {
   "cell_type": "markdown",
   "metadata": {},
   "source": [
    "## Задание 3\n",
    "\n",
    "Найти наиболее/наименее прибыльного заказчика, город, регион, категорию"
   ]
  },
  {
   "cell_type": "code",
   "execution_count": 37,
   "metadata": {},
   "outputs": [
    {
     "data": {
      "text/html": [
       "<div>\n",
       "<style scoped>\n",
       "    .dataframe tbody tr th:only-of-type {\n",
       "        vertical-align: middle;\n",
       "    }\n",
       "\n",
       "    .dataframe tbody tr th {\n",
       "        vertical-align: top;\n",
       "    }\n",
       "\n",
       "    .dataframe thead th {\n",
       "        text-align: right;\n",
       "    }\n",
       "</style>\n",
       "<table border=\"1\" class=\"dataframe\">\n",
       "  <thead>\n",
       "    <tr style=\"text-align: right;\">\n",
       "      <th></th>\n",
       "      <th>customer</th>\n",
       "      <th>revenue</th>\n",
       "    </tr>\n",
       "  </thead>\n",
       "  <tbody>\n",
       "    <tr>\n",
       "      <th>0</th>\n",
       "      <td>Cooking Corner</td>\n",
       "      <td>535248.48</td>\n",
       "    </tr>\n",
       "    <tr>\n",
       "      <th>7</th>\n",
       "      <td>mymeal</td>\n",
       "      <td>400691.35</td>\n",
       "    </tr>\n",
       "    <tr>\n",
       "      <th>6</th>\n",
       "      <td>foodbite</td>\n",
       "      <td>386889.82</td>\n",
       "    </tr>\n",
       "    <tr>\n",
       "      <th>5</th>\n",
       "      <td>Sweetables</td>\n",
       "      <td>277958.33</td>\n",
       "    </tr>\n",
       "    <tr>\n",
       "      <th>3</th>\n",
       "      <td>NutriFix</td>\n",
       "      <td>252670.01</td>\n",
       "    </tr>\n",
       "    <tr>\n",
       "      <th>2</th>\n",
       "      <td>Gold Food</td>\n",
       "      <td>242486.43</td>\n",
       "    </tr>\n",
       "    <tr>\n",
       "      <th>4</th>\n",
       "      <td>Organica</td>\n",
       "      <td>227542.68</td>\n",
       "    </tr>\n",
       "    <tr>\n",
       "      <th>1</th>\n",
       "      <td>Go Bio</td>\n",
       "      <td>201711.49</td>\n",
       "    </tr>\n",
       "  </tbody>\n",
       "</table>\n",
       "</div>"
      ],
      "text/plain": [
       "         customer    revenue\n",
       "0  Cooking Corner  535248.48\n",
       "7          mymeal  400691.35\n",
       "6        foodbite  386889.82\n",
       "5      Sweetables  277958.33\n",
       "3        NutriFix  252670.01\n",
       "2       Gold Food  242486.43\n",
       "4        Organica  227542.68\n",
       "1          Go Bio  201711.49"
      ]
     },
     "execution_count": 37,
     "metadata": {},
     "output_type": "execute_result"
    }
   ],
   "source": [
    "df_cust = df.groupby('customer',as_index=False).agg({'revenue':'sum'}).sort_values('revenue', ascending = False)\n",
    "df_cust"
   ]
  },
  {
   "cell_type": "code",
   "execution_count": 38,
   "metadata": {},
   "outputs": [
    {
     "data": {
      "image/png": "[encoded data removed]",
      "text/plain": [
       "<Figure size 720x432 with 1 Axes>"
      ]
     },
     "metadata": {
      "needs_background": "light"
     },
     "output_type": "display_data"
    },
    {
     "data": {
      "text/plain": [
       "<Figure size 432x288 with 0 Axes>"
      ]
     },
     "metadata": {},
     "output_type": "display_data"
    }
   ],
   "source": [
    "plt.figure(figsize=(10,6))\n",
    "plt.bar(df_cust.customer,\n",
    "        df_cust.revenue/10**3, width = 0.5, color='#6A48D7')\n",
    "plt.xlabel('Заказчик')\n",
    "plt.ylabel('Выручка, тыс. у.е.')\n",
    "plt.xticks(rotation=45)\n",
    "plt.grid()\n",
    "plt.show()\n",
    "plt.savefig('df_cust', dpi=300)"
   ]
  },
  {
   "cell_type": "code",
   "execution_count": 39,
   "metadata": {},
   "outputs": [
    {
     "data": {
      "text/html": [
       "<div>\n",
       "<style scoped>\n",
       "    .dataframe tbody tr th:only-of-type {\n",
       "        vertical-align: middle;\n",
       "    }\n",
       "\n",
       "    .dataframe tbody tr th {\n",
       "        vertical-align: top;\n",
       "    }\n",
       "\n",
       "    .dataframe thead th {\n",
       "        text-align: right;\n",
       "    }\n",
       "</style>\n",
       "<table border=\"1\" class=\"dataframe\">\n",
       "  <thead>\n",
       "    <tr style=\"text-align: right;\">\n",
       "      <th></th>\n",
       "      <th>city</th>\n",
       "      <th>revenue</th>\n",
       "    </tr>\n",
       "  </thead>\n",
       "  <tbody>\n",
       "    <tr>\n",
       "      <th>0</th>\n",
       "      <td>Берлин</td>\n",
       "      <td>744810.90</td>\n",
       "    </tr>\n",
       "    <tr>\n",
       "      <th>2</th>\n",
       "      <td>Гамбург</td>\n",
       "      <td>451815.10</td>\n",
       "    </tr>\n",
       "    <tr>\n",
       "      <th>5</th>\n",
       "      <td>Мюнхен</td>\n",
       "      <td>326984.14</td>\n",
       "    </tr>\n",
       "    <tr>\n",
       "      <th>7</th>\n",
       "      <td>Штутгарт</td>\n",
       "      <td>275202.48</td>\n",
       "    </tr>\n",
       "    <tr>\n",
       "      <th>4</th>\n",
       "      <td>Кёльн</td>\n",
       "      <td>272860.49</td>\n",
       "    </tr>\n",
       "    <tr>\n",
       "      <th>6</th>\n",
       "      <td>Франкфурт</td>\n",
       "      <td>192535.03</td>\n",
       "    </tr>\n",
       "    <tr>\n",
       "      <th>3</th>\n",
       "      <td>Дрезден</td>\n",
       "      <td>134029.52</td>\n",
       "    </tr>\n",
       "    <tr>\n",
       "      <th>1</th>\n",
       "      <td>Бремен</td>\n",
       "      <td>126960.93</td>\n",
       "    </tr>\n",
       "  </tbody>\n",
       "</table>\n",
       "</div>"
      ],
      "text/plain": [
       "        city    revenue\n",
       "0     Берлин  744810.90\n",
       "2    Гамбург  451815.10\n",
       "5     Мюнхен  326984.14\n",
       "7   Штутгарт  275202.48\n",
       "4      Кёльн  272860.49\n",
       "6  Франкфурт  192535.03\n",
       "3    Дрезден  134029.52\n",
       "1     Бремен  126960.93"
      ]
     },
     "execution_count": 39,
     "metadata": {},
     "output_type": "execute_result"
    }
   ],
   "source": [
    "df_city = df.groupby('city',as_index=False).agg({'revenue':'sum'}).sort_values('revenue', ascending = False)\n",
    "df_city"
   ]
  },
  {
   "cell_type": "code",
   "execution_count": 40,
   "metadata": {},
   "outputs": [
    {
     "data": {
      "image/png": "[encoded data removed]",
      "text/plain": [
       "<Figure size 720x432 with 1 Axes>"
      ]
     },
     "metadata": {
      "needs_background": "light"
     },
     "output_type": "display_data"
    },
    {
     "data": {
      "text/plain": [
       "<Figure size 432x288 with 0 Axes>"
      ]
     },
     "metadata": {},
     "output_type": "display_data"
    }
   ],
   "source": [
    "plt.figure(figsize=(10,6))\n",
    "plt.bar(df_city.city,\n",
    "        df_city.revenue/10**3, width = 0.5, color='#6A48D7')\n",
    "plt.xlabel('Город')\n",
    "plt.ylabel('Выручка, тыс. у.е.')\n",
    "plt.xticks(rotation=45)\n",
    "plt.grid()\n",
    "plt.show()\n",
    "plt.savefig('df_city', dpi=300)"
   ]
  },
  {
   "cell_type": "code",
   "execution_count": 41,
   "metadata": {},
   "outputs": [
    {
     "data": {
      "text/html": [
       "<div>\n",
       "<style scoped>\n",
       "    .dataframe tbody tr th:only-of-type {\n",
       "        vertical-align: middle;\n",
       "    }\n",
       "\n",
       "    .dataframe tbody tr th {\n",
       "        vertical-align: top;\n",
       "    }\n",
       "\n",
       "    .dataframe thead th {\n",
       "        text-align: right;\n",
       "    }\n",
       "</style>\n",
       "<table border=\"1\" class=\"dataframe\">\n",
       "  <thead>\n",
       "    <tr style=\"text-align: right;\">\n",
       "      <th></th>\n",
       "      <th>region</th>\n",
       "      <th>revenue</th>\n",
       "    </tr>\n",
       "  </thead>\n",
       "  <tbody>\n",
       "    <tr>\n",
       "      <th>0</th>\n",
       "      <td>Восток</td>\n",
       "      <td>878840.42</td>\n",
       "    </tr>\n",
       "    <tr>\n",
       "      <th>3</th>\n",
       "      <td>Юг</td>\n",
       "      <td>602186.62</td>\n",
       "    </tr>\n",
       "    <tr>\n",
       "      <th>2</th>\n",
       "      <td>Север</td>\n",
       "      <td>578776.03</td>\n",
       "    </tr>\n",
       "    <tr>\n",
       "      <th>1</th>\n",
       "      <td>Запад</td>\n",
       "      <td>465395.52</td>\n",
       "    </tr>\n",
       "  </tbody>\n",
       "</table>\n",
       "</div>"
      ],
      "text/plain": [
       "   region    revenue\n",
       "0  Восток  878840.42\n",
       "3      Юг  602186.62\n",
       "2   Север  578776.03\n",
       "1   Запад  465395.52"
      ]
     },
     "execution_count": 41,
     "metadata": {},
     "output_type": "execute_result"
    }
   ],
   "source": [
    "df_region = df.groupby('region',as_index=False).agg({'revenue':'sum'}).sort_values('revenue', ascending = False)\n",
    "df_region"
   ]
  },
  {
   "cell_type": "code",
   "execution_count": 42,
   "metadata": {},
   "outputs": [
    {
     "data": {
      "image/png": "[encoded data removed]",
      "text/plain": [
       "<Figure size 720x432 with 1 Axes>"
      ]
     },
     "metadata": {
      "needs_background": "light"
     },
     "output_type": "display_data"
    },
    {
     "data": {
      "text/plain": [
       "<Figure size 432x288 with 0 Axes>"
      ]
     },
     "metadata": {},
     "output_type": "display_data"
    }
   ],
   "source": [
    "plt.figure(figsize=(10,6))\n",
    "plt.bar(df_region.region,\n",
    "        df_region.revenue/10**3, width = 0.5, color='#6A48D7')\n",
    "plt.xlabel('Регион')\n",
    "plt.ylabel('Выручка, тыс. у.е.')\n",
    "plt.xticks(rotation=45)\n",
    "plt.grid()\n",
    "plt.show()\n",
    "plt.savefig('df_region', dpi=300)"
   ]
  },
  {
   "cell_type": "code",
   "execution_count": 43,
   "metadata": {
    "scrolled": true
   },
   "outputs": [
    {
     "data": {
      "text/html": [
       "<div>\n",
       "<style scoped>\n",
       "    .dataframe tbody tr th:only-of-type {\n",
       "        vertical-align: middle;\n",
       "    }\n",
       "\n",
       "    .dataframe tbody tr th {\n",
       "        vertical-align: top;\n",
       "    }\n",
       "\n",
       "    .dataframe thead th {\n",
       "        text-align: right;\n",
       "    }\n",
       "</style>\n",
       "<table border=\"1\" class=\"dataframe\">\n",
       "  <thead>\n",
       "    <tr style=\"text-align: right;\">\n",
       "      <th></th>\n",
       "      <th>category</th>\n",
       "      <th>revenue</th>\n",
       "    </tr>\n",
       "  </thead>\n",
       "  <tbody>\n",
       "    <tr>\n",
       "      <th>3</th>\n",
       "      <td>Напитки</td>\n",
       "      <td>615749.04</td>\n",
       "    </tr>\n",
       "    <tr>\n",
       "      <th>2</th>\n",
       "      <td>Масла</td>\n",
       "      <td>498528.38</td>\n",
       "    </tr>\n",
       "    <tr>\n",
       "      <th>7</th>\n",
       "      <td>Сыры</td>\n",
       "      <td>432000.77</td>\n",
       "    </tr>\n",
       "    <tr>\n",
       "      <th>1</th>\n",
       "      <td>Крупы</td>\n",
       "      <td>413948.80</td>\n",
       "    </tr>\n",
       "    <tr>\n",
       "      <th>4</th>\n",
       "      <td>Сладости</td>\n",
       "      <td>168594.35</td>\n",
       "    </tr>\n",
       "    <tr>\n",
       "      <th>6</th>\n",
       "      <td>Сухофрукты</td>\n",
       "      <td>163627.85</td>\n",
       "    </tr>\n",
       "    <tr>\n",
       "      <th>0</th>\n",
       "      <td>Консервы</td>\n",
       "      <td>129914.11</td>\n",
       "    </tr>\n",
       "    <tr>\n",
       "      <th>5</th>\n",
       "      <td>Специи</td>\n",
       "      <td>102835.29</td>\n",
       "    </tr>\n",
       "  </tbody>\n",
       "</table>\n",
       "</div>"
      ],
      "text/plain": [
       "     category    revenue\n",
       "3     Напитки  615749.04\n",
       "2       Масла  498528.38\n",
       "7        Сыры  432000.77\n",
       "1       Крупы  413948.80\n",
       "4    Сладости  168594.35\n",
       "6  Сухофрукты  163627.85\n",
       "0    Консервы  129914.11\n",
       "5      Специи  102835.29"
      ]
     },
     "execution_count": 43,
     "metadata": {},
     "output_type": "execute_result"
    }
   ],
   "source": [
    "df_category = df.groupby('category',as_index=False).agg({'revenue':'sum'}).sort_values('revenue', ascending = False)\n",
    "df_category"
   ]
  },
  {
   "cell_type": "code",
   "execution_count": 44,
   "metadata": {},
   "outputs": [
    {
     "data": {
      "image/png": "[encoded data removed]",
      "text/plain": [
       "<Figure size 720x432 with 1 Axes>"
      ]
     },
     "metadata": {
      "needs_background": "light"
     },
     "output_type": "display_data"
    },
    {
     "data": {
      "text/plain": [
       "<Figure size 432x288 with 0 Axes>"
      ]
     },
     "metadata": {},
     "output_type": "display_data"
    }
   ],
   "source": [
    "plt.figure(figsize=(10,6))\n",
    "plt.bar(df_category.category,\n",
    "        df_category.revenue/10**3, width = 0.5, color='#6A48D7')\n",
    "plt.xlabel('Город')\n",
    "plt.ylabel('Выручка, тыс. у.е.')\n",
    "plt.xticks(rotation=45)\n",
    "plt.grid()\n",
    "plt.show()\n",
    "plt.savefig('df_category', dpi=300)"
   ]
  },
  {
   "cell_type": "markdown",
   "metadata": {},
   "source": [
    "## Задание 4\n",
    "\n",
    "Какие товары покупают чаще всего, какие товары покупают чаще всего в регионе, городе"
   ]
  },
  {
   "cell_type": "code",
   "execution_count": 45,
   "metadata": {},
   "outputs": [
    {
     "data": {
      "text/html": [
       "<div>\n",
       "<style scoped>\n",
       "    .dataframe tbody tr th:only-of-type {\n",
       "        vertical-align: middle;\n",
       "    }\n",
       "\n",
       "    .dataframe tbody tr th {\n",
       "        vertical-align: top;\n",
       "    }\n",
       "\n",
       "    .dataframe thead th {\n",
       "        text-align: right;\n",
       "    }\n",
       "</style>\n",
       "<table border=\"1\" class=\"dataframe\">\n",
       "  <thead>\n",
       "    <tr style=\"text-align: right;\">\n",
       "      <th></th>\n",
       "      <th></th>\n",
       "      <th>quantity</th>\n",
       "    </tr>\n",
       "    <tr>\n",
       "      <th>city</th>\n",
       "      <th>product</th>\n",
       "      <th></th>\n",
       "    </tr>\n",
       "  </thead>\n",
       "  <tbody>\n",
       "    <tr>\n",
       "      <th rowspan=\"5\" valign=\"top\">Штутгарт</th>\n",
       "      <th>Шпроты</th>\n",
       "      <td>67</td>\n",
       "    </tr>\n",
       "    <tr>\n",
       "      <th>Мармелад</th>\n",
       "      <td>54</td>\n",
       "    </tr>\n",
       "    <tr>\n",
       "      <th>Базилик</th>\n",
       "      <td>59</td>\n",
       "    </tr>\n",
       "    <tr>\n",
       "      <th>Гауда</th>\n",
       "      <td>53</td>\n",
       "    </tr>\n",
       "    <tr>\n",
       "      <th>Говядина тушеная</th>\n",
       "      <td>56</td>\n",
       "    </tr>\n",
       "    <tr>\n",
       "      <th>...</th>\n",
       "      <th>...</th>\n",
       "      <td>...</td>\n",
       "    </tr>\n",
       "    <tr>\n",
       "      <th rowspan=\"5\" valign=\"top\">Берлин</th>\n",
       "      <th>Черный чай</th>\n",
       "      <td>58</td>\n",
       "    </tr>\n",
       "    <tr>\n",
       "      <th>Шоколад</th>\n",
       "      <td>53</td>\n",
       "    </tr>\n",
       "    <tr>\n",
       "      <th>Шпроты</th>\n",
       "      <td>44</td>\n",
       "    </tr>\n",
       "    <tr>\n",
       "      <th>кофе</th>\n",
       "      <td>1</td>\n",
       "    </tr>\n",
       "    <tr>\n",
       "      <th>Базилик</th>\n",
       "      <td>55</td>\n",
       "    </tr>\n",
       "  </tbody>\n",
       "</table>\n",
       "<p>193 rows × 1 columns</p>\n",
       "</div>"
      ],
      "text/plain": [
       "                           quantity\n",
       "city     product                   \n",
       "Штутгарт Шпроты                  67\n",
       "         Мармелад                54\n",
       "         Базилик                 59\n",
       "         Гауда                   53\n",
       "         Говядина тушеная        56\n",
       "...                             ...\n",
       "Берлин   Черный чай              58\n",
       "         Шоколад                 53\n",
       "         Шпроты                  44\n",
       "         кофе                     1\n",
       "         Базилик                 55\n",
       "\n",
       "[193 rows x 1 columns]"
      ]
     },
     "execution_count": 45,
     "metadata": {},
     "output_type": "execute_result"
    }
   ],
   "source": [
    "df_quant_prod = df.groupby(['city','product'],as_index=True).agg({'quantity':'count'}) \\\n",
    ".sort_values('city', ascending = False)\n",
    "df_quant_prod.to_csv('city_by_prod_quant.csv', index=True, encoding=\"utf-16\")\n",
    "df_quant_prod"
   ]
  },
  {
   "cell_type": "code",
   "execution_count": 46,
   "metadata": {},
   "outputs": [
    {
     "data": {
      "text/html": [
       "<div>\n",
       "<style scoped>\n",
       "    .dataframe tbody tr th:only-of-type {\n",
       "        vertical-align: middle;\n",
       "    }\n",
       "\n",
       "    .dataframe tbody tr th {\n",
       "        vertical-align: top;\n",
       "    }\n",
       "\n",
       "    .dataframe thead th {\n",
       "        text-align: right;\n",
       "    }\n",
       "</style>\n",
       "<table border=\"1\" class=\"dataframe\">\n",
       "  <thead>\n",
       "    <tr style=\"text-align: right;\">\n",
       "      <th></th>\n",
       "      <th></th>\n",
       "      <th>quantity</th>\n",
       "    </tr>\n",
       "    <tr>\n",
       "      <th>region</th>\n",
       "      <th>product</th>\n",
       "      <th></th>\n",
       "    </tr>\n",
       "  </thead>\n",
       "  <tbody>\n",
       "    <tr>\n",
       "      <th rowspan=\"5\" valign=\"top\">Юг</th>\n",
       "      <th>Шпроты</th>\n",
       "      <td>114</td>\n",
       "    </tr>\n",
       "    <tr>\n",
       "      <th>Мармелад</th>\n",
       "      <td>109</td>\n",
       "    </tr>\n",
       "    <tr>\n",
       "      <th>Гауда</th>\n",
       "      <td>114</td>\n",
       "    </tr>\n",
       "    <tr>\n",
       "      <th>Говядина тушеная</th>\n",
       "      <td>104</td>\n",
       "    </tr>\n",
       "    <tr>\n",
       "      <th>Гречка</th>\n",
       "      <td>121</td>\n",
       "    </tr>\n",
       "    <tr>\n",
       "      <th>...</th>\n",
       "      <th>...</th>\n",
       "      <td>...</td>\n",
       "    </tr>\n",
       "    <tr>\n",
       "      <th rowspan=\"5\" valign=\"top\">Восток</th>\n",
       "      <th>Черный перец</th>\n",
       "      <td>110</td>\n",
       "    </tr>\n",
       "    <tr>\n",
       "      <th>Черный чай</th>\n",
       "      <td>107</td>\n",
       "    </tr>\n",
       "    <tr>\n",
       "      <th>Шоколад</th>\n",
       "      <td>118</td>\n",
       "    </tr>\n",
       "    <tr>\n",
       "      <th>Шпроты</th>\n",
       "      <td>100</td>\n",
       "    </tr>\n",
       "    <tr>\n",
       "      <th>Базилик</th>\n",
       "      <td>117</td>\n",
       "    </tr>\n",
       "  </tbody>\n",
       "</table>\n",
       "<p>97 rows × 1 columns</p>\n",
       "</div>"
      ],
      "text/plain": [
       "                         quantity\n",
       "region product                   \n",
       "Юг     Шпроты                 114\n",
       "       Мармелад               109\n",
       "       Гауда                  114\n",
       "       Говядина тушеная       104\n",
       "       Гречка                 121\n",
       "...                           ...\n",
       "Восток Черный перец           110\n",
       "       Черный чай             107\n",
       "       Шоколад                118\n",
       "       Шпроты                 100\n",
       "       Базилик                117\n",
       "\n",
       "[97 rows x 1 columns]"
      ]
     },
     "execution_count": 46,
     "metadata": {},
     "output_type": "execute_result"
    }
   ],
   "source": [
    "df_quant_reg = df.groupby(['region','product'],as_index=True).agg({'quantity':'count'}) \\\n",
    ".sort_values('region', ascending = False)\n",
    "df_quant_reg.to_csv('reg_by_prod_quant.csv', index=True, encoding=\"utf-16\")\n",
    "df_quant_reg"
   ]
  },
  {
   "cell_type": "code",
   "execution_count": 47,
   "metadata": {},
   "outputs": [
    {
     "data": {
      "text/html": [
       "<div>\n",
       "<style scoped>\n",
       "    .dataframe tbody tr th:only-of-type {\n",
       "        vertical-align: middle;\n",
       "    }\n",
       "\n",
       "    .dataframe tbody tr th {\n",
       "        vertical-align: top;\n",
       "    }\n",
       "\n",
       "    .dataframe thead th {\n",
       "        text-align: right;\n",
       "    }\n",
       "</style>\n",
       "<table border=\"1\" class=\"dataframe\">\n",
       "  <thead>\n",
       "    <tr style=\"text-align: right;\">\n",
       "      <th></th>\n",
       "      <th></th>\n",
       "      <th></th>\n",
       "      <th>quantity</th>\n",
       "    </tr>\n",
       "    <tr>\n",
       "      <th>region</th>\n",
       "      <th>city</th>\n",
       "      <th>product</th>\n",
       "      <th></th>\n",
       "    </tr>\n",
       "  </thead>\n",
       "  <tbody>\n",
       "    <tr>\n",
       "      <th rowspan=\"5\" valign=\"top\">Восток</th>\n",
       "      <th rowspan=\"5\" valign=\"top\">Дрезден</th>\n",
       "      <th>Базилик</th>\n",
       "      <td>62</td>\n",
       "    </tr>\n",
       "    <tr>\n",
       "      <th>Гауда</th>\n",
       "      <td>57</td>\n",
       "    </tr>\n",
       "    <tr>\n",
       "      <th>Говядина тушеная</th>\n",
       "      <td>55</td>\n",
       "    </tr>\n",
       "    <tr>\n",
       "      <th>Гречка</th>\n",
       "      <td>45</td>\n",
       "    </tr>\n",
       "    <tr>\n",
       "      <th>Зеленый чай</th>\n",
       "      <td>53</td>\n",
       "    </tr>\n",
       "    <tr>\n",
       "      <th>...</th>\n",
       "      <th>...</th>\n",
       "      <th>...</th>\n",
       "      <td>...</td>\n",
       "    </tr>\n",
       "    <tr>\n",
       "      <th rowspan=\"5\" valign=\"top\">Юг</th>\n",
       "      <th rowspan=\"5\" valign=\"top\">Мюнхен</th>\n",
       "      <th>Филадельфия</th>\n",
       "      <td>37</td>\n",
       "    </tr>\n",
       "    <tr>\n",
       "      <th>Черный перец</th>\n",
       "      <td>59</td>\n",
       "    </tr>\n",
       "    <tr>\n",
       "      <th>Черный чай</th>\n",
       "      <td>54</td>\n",
       "    </tr>\n",
       "    <tr>\n",
       "      <th>Шоколад</th>\n",
       "      <td>51</td>\n",
       "    </tr>\n",
       "    <tr>\n",
       "      <th>Шпроты</th>\n",
       "      <td>47</td>\n",
       "    </tr>\n",
       "  </tbody>\n",
       "</table>\n",
       "<p>193 rows × 1 columns</p>\n",
       "</div>"
      ],
      "text/plain": [
       "                                 quantity\n",
       "region city    product                   \n",
       "Восток Дрезден Базилик                 62\n",
       "               Гауда                   57\n",
       "               Говядина тушеная        55\n",
       "               Гречка                  45\n",
       "               Зеленый чай             53\n",
       "...                                   ...\n",
       "Юг     Мюнхен  Филадельфия             37\n",
       "               Черный перец            59\n",
       "               Черный чай              54\n",
       "               Шоколад                 51\n",
       "               Шпроты                  47\n",
       "\n",
       "[193 rows x 1 columns]"
      ]
     },
     "execution_count": 47,
     "metadata": {},
     "output_type": "execute_result"
    }
   ],
   "source": [
    "df_quant_reg_city = df.groupby(['region', 'city','product'],as_index=True).agg({'quantity':'count'}) \\\n",
    ".sort_values(['region','city'], ascending = [True, False])\n",
    "df_quant_reg_city.to_csv('reg_city_by_prod_quant.csv', index=True, encoding=\"utf-16\")\n",
    "df_quant_reg_city"
   ]
  }
 ],
 "metadata": {
  "kernelspec": {
   "display_name": "Python 3",
   "language": "python",
   "name": "python3"
  },
  "language_info": {
   "codemirror_mode": {
    "name": "ipython",
    "version": 3
   },
   "file_extension": ".py",
   "mimetype": "text/x-python",
   "name": "python",
   "nbconvert_exporter": "python",
   "pygments_lexer": "ipython3",
   "version": "3.8.5"
  }
 },
 "nbformat": 4,
 "nbformat_minor": 4
}
